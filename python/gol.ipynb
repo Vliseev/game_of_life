{
 "cells": [
  {
   "cell_type": "code",
   "execution_count": 213,
   "metadata": {
    "colab": {},
    "colab_type": "code",
    "id": "AjMgnsWhLnuA"
   },
   "outputs": [],
   "source": [
    "import h5py\n",
    "import numpy as np\n",
    "import tqdm\n",
    "\n",
    "from sklearn.model_selection import train_test_split"
   ]
  },
  {
   "cell_type": "code",
   "execution_count": 214,
   "metadata": {},
   "outputs": [],
   "source": [
    "COLLAB = False"
   ]
  },
  {
   "cell_type": "code",
   "execution_count": 215,
   "metadata": {
    "colab": {
     "base_uri": "https://localhost:8080/",
     "height": 34.0
    },
    "colab_type": "code",
    "executionInfo": {
     "elapsed": 791.0,
     "status": "ok",
     "timestamp": 1.561746948812E12,
     "user": {
      "displayName": "Влад Лисеев",
      "photoUrl": "",
      "userId": "13593142780561310231"
     },
     "user_tz": -180.0
    },
    "id": "vs6CBRYRLnuH",
    "outputId": "e9f1e05b-f525-4fd1-971e-06bc5e7de6fc"
   },
   "outputs": [],
   "source": [
    "if COLLAB:\n",
    "    from google.colab import drive\n",
    "    drive.mount('/content/drive')\n",
    "    PATH_TO_DATA = \"/content/drive/My Drive/collab_shared/dataset_20x30x10000.h5\"\n",
    "else:\n",
    "    PATH_TO_DATA = \"dataset_20x30x10000.h5\""
   ]
  },
  {
   "cell_type": "code",
   "execution_count": 216,
   "metadata": {
    "colab": {},
    "colab_type": "code",
    "id": "jysn69FSLnuR"
   },
   "outputs": [],
   "source": [
    "with h5py.File(PATH_TO_DATA) as f:\n",
    "    X = f[\"x_train\"][:]\n",
    "    Y = f[\"y_train\"][:]"
   ]
  },
  {
   "cell_type": "code",
   "execution_count": 217,
   "metadata": {
    "colab": {},
    "colab_type": "code",
    "id": "5CgON4qQNl4V"
   },
   "outputs": [],
   "source": [
    "def reshape_input(X):\n",
    "    return X.reshape(X.shape[0], X.shape[1], X.shape[2], 1)\n",
    "\n",
    "def pad_input(X):\n",
    "    return reshape_input(np.array([\n",
    "        np.pad(x.reshape((20, 30)), (1,1), mode='wrap')\n",
    "        for x in X\n",
    "    ]))"
   ]
  },
  {
   "cell_type": "code",
   "execution_count": 218,
   "metadata": {
    "colab": {},
    "colab_type": "code",
    "id": "Dx-RnmJBNY5L"
   },
   "outputs": [],
   "source": [
    "X = pad_input(X)\n",
    "Y = reshape_input(Y)"
   ]
  },
  {
   "cell_type": "code",
   "execution_count": 219,
   "metadata": {
    "colab": {},
    "colab_type": "code",
    "id": "kf8v6tT2LnuW"
   },
   "outputs": [],
   "source": [
    "X_train, X_test,\\\n",
    "Y_train, Y_test = train_test_split(X, Y, test_size=0.33, random_state=42)"
   ]
  },
  {
   "cell_type": "code",
   "execution_count": null,
   "metadata": {
    "colab": {},
    "colab_type": "code",
    "id": "fEOxf10rLnum"
   },
   "outputs": [],
   "source": [
    "import keras\n",
    "import keras.backend as K\n",
    "from keras import layers\n",
    "from keras import Input, Model\n"
   ]
  },
  {
   "cell_type": "code",
   "execution_count": 47,
   "metadata": {
    "colab": {
     "base_uri": "https://localhost:8080/",
     "height": 34.0
    },
    "colab_type": "code",
    "executionInfo": {
     "elapsed": 738.0,
     "status": "ok",
     "timestamp": 1.561746951133E12,
     "user": {
      "displayName": "Влад Лисеев",
      "photoUrl": "",
      "userId": "13593142780561310231"
     },
     "user_tz": -180.0
    },
    "id": "2oUKRuy3OjN_",
    "outputId": "1a3ca379-0189-4d5e-b586-ea4d460b79c7"
   },
   "outputs": [
    {
     "data": {
      "text/plain": [
       "(10000, 22, 32, 1)"
      ]
     },
     "execution_count": 47,
     "metadata": {
      "tags": []
     },
     "output_type": "execute_result"
    }
   ],
   "source": [
    "X.shape"
   ]
  },
  {
   "cell_type": "code",
   "execution_count": null,
   "metadata": {
    "colab": {},
    "colab_type": "code",
    "id": "FwLdEZAlLnup"
   },
   "outputs": [],
   "source": [
    "inp_shape=(22,32)"
   ]
  },
  {
   "cell_type": "code",
   "execution_count": null,
   "metadata": {
    "colab": {},
    "colab_type": "code",
    "id": "f6rAkxezLnut"
   },
   "outputs": [],
   "source": [
    "filters = 50\n",
    "kernel_size = (3, 3)\n",
    "strides = 1\n",
    "hidden_dims_l1 = 100"
   ]
  },
  {
   "cell_type": "code",
   "execution_count": null,
   "metadata": {
    "colab": {},
    "colab_type": "code",
    "id": "yIvmH6UALnuz"
   },
   "outputs": [],
   "source": [
    "inp = Input(shape=(inp_shape[0],inp_shape[1],1),name='inp')\n",
    "x = layers.Conv2D(\n",
    "    filters, \n",
    "    kernel_size,\n",
    "    padding='valid',\n",
    "    activation='relu',\n",
    "    strides=strides,\n",
    "    name = 'conv1'\n",
    ")(inp)\n",
    "x = layers.Dense(100, activation='relu',name='dense1')(x)\n",
    "x = layers.Conv2D(\n",
    "    filters, \n",
    "    kernel_size,\n",
    "    padding='same',\n",
    "    activation='relu',\n",
    "    strides=strides,\n",
    "    name = 'conv2'\n",
    ")(x)\n",
    "x = layers.Dense(50, activation='relu',name='dense2')(x)\n",
    "out = layers.Dense(1 , activation='sigmoid',name='out')(x)"
   ]
  },
  {
   "cell_type": "code",
   "execution_count": null,
   "metadata": {
    "colab": {},
    "colab_type": "code",
    "id": "IfWV-k_oLnu4"
   },
   "outputs": [],
   "source": [
    "model = Model([inp],[out])"
   ]
  },
  {
   "cell_type": "code",
   "execution_count": null,
   "metadata": {
    "colab": {},
    "colab_type": "code",
    "id": "DNRDkEeWLnu7"
   },
   "outputs": [],
   "source": [
    "model.compile(optimizer='adam',loss='binary_crossentropy', metrics=['accuracy'])"
   ]
  },
  {
   "cell_type": "code",
   "execution_count": 56,
   "metadata": {
    "colab": {
     "base_uri": "https://localhost:8080/",
     "height": 340.0
    },
    "colab_type": "code",
    "executionInfo": {
     "elapsed": 660.0,
     "status": "ok",
     "timestamp": 1.56174699198E12,
     "user": {
      "displayName": "Влад Лисеев",
      "photoUrl": "",
      "userId": "13593142780561310231"
     },
     "user_tz": -180.0
    },
    "id": "hwvkEXN0LnvA",
    "outputId": "7fe81733-4928-4603-eccf-66280157a194"
   },
   "outputs": [
    {
     "name": "stdout",
     "output_type": "stream",
     "text": [
      "_________________________________________________________________\n",
      "Layer (type)                 Output Shape              Param #   \n",
      "=================================================================\n",
      "inp (InputLayer)             (None, 22, 32, 1)         0         \n",
      "_________________________________________________________________\n",
      "conv1 (Conv2D)               (None, 20, 30, 50)        500       \n",
      "_________________________________________________________________\n",
      "dense1 (Dense)               (None, 20, 30, 100)       5100      \n",
      "_________________________________________________________________\n",
      "conv2 (Conv2D)               (None, 20, 30, 50)        45050     \n",
      "_________________________________________________________________\n",
      "dense2 (Dense)               (None, 20, 30, 50)        2550      \n",
      "_________________________________________________________________\n",
      "out (Dense)                  (None, 20, 30, 1)         51        \n",
      "=================================================================\n",
      "Total params: 53,251\n",
      "Trainable params: 53,251\n",
      "Non-trainable params: 0\n",
      "_________________________________________________________________\n"
     ]
    }
   ],
   "source": [
    "model.summary()"
   ]
  },
  {
   "cell_type": "code",
   "execution_count": 57,
   "metadata": {
    "colab": {
     "base_uri": "https://localhost:8080/",
     "height": 34.0
    },
    "colab_type": "code",
    "executionInfo": {
     "elapsed": 545.0,
     "status": "ok",
     "timestamp": 1.561747001121E12,
     "user": {
      "displayName": "Влад Лисеев",
      "photoUrl": "",
      "userId": "13593142780561310231"
     },
     "user_tz": -180.0
    },
    "id": "3e0d3PhIO1bK",
    "outputId": "ca62dada-ac12-43f4-fe69-367f7bcfdb44"
   },
   "outputs": [
    {
     "data": {
      "text/plain": [
       "(10000, 22, 32, 1)"
      ]
     },
     "execution_count": 57,
     "metadata": {
      "tags": []
     },
     "output_type": "execute_result"
    }
   ],
   "source": [
    "X.shape"
   ]
  },
  {
   "cell_type": "code",
   "execution_count": 59,
   "metadata": {
    "colab": {
     "base_uri": "https://localhost:8080/",
     "height": 391.0
    },
    "colab_type": "code",
    "executionInfo": {
     "elapsed": 11017.0,
     "status": "ok",
     "timestamp": 1.561747064198E12,
     "user": {
      "displayName": "Влад Лисеев",
      "photoUrl": "",
      "userId": "13593142780561310231"
     },
     "user_tz": -180.0
    },
    "id": "YMfD2BRpLnvH",
    "outputId": "b275f17e-54be-447c-c447-63fd1651cd39"
   },
   "outputs": [
    {
     "name": "stdout",
     "output_type": "stream",
     "text": [
      "Train on 6700 samples, validate on 3300 samples\n",
      "Epoch 1/10\n",
      "6700/6700 [==============================] - 1s 161us/step - loss: 0.0023 - acc: 0.9997 - val_loss: 0.0022 - val_acc: 0.9997\n",
      "Epoch 2/10\n",
      "6700/6700 [==============================] - 1s 149us/step - loss: 0.0020 - acc: 0.9997 - val_loss: 0.0019 - val_acc: 0.9997\n",
      "Epoch 3/10\n",
      "6700/6700 [==============================] - 1s 150us/step - loss: 0.0018 - acc: 0.9998 - val_loss: 0.0017 - val_acc: 0.9998\n",
      "Epoch 4/10\n",
      "6700/6700 [==============================] - 1s 150us/step - loss: 0.0017 - acc: 0.9998 - val_loss: 0.0016 - val_acc: 0.9998\n",
      "Epoch 5/10\n",
      "6700/6700 [==============================] - 1s 151us/step - loss: 0.0015 - acc: 0.9998 - val_loss: 0.0014 - val_acc: 0.9999\n",
      "Epoch 6/10\n",
      "6700/6700 [==============================] - 1s 152us/step - loss: 0.0014 - acc: 0.9999 - val_loss: 0.0013 - val_acc: 0.9999\n",
      "Epoch 7/10\n",
      "6700/6700 [==============================] - 1s 152us/step - loss: 0.0012 - acc: 0.9999 - val_loss: 0.0012 - val_acc: 0.9999\n",
      "Epoch 8/10\n",
      "6700/6700 [==============================] - 1s 152us/step - loss: 0.0011 - acc: 0.9999 - val_loss: 0.0011 - val_acc: 0.9999\n",
      "Epoch 9/10\n",
      "6700/6700 [==============================] - 1s 153us/step - loss: 0.0010 - acc: 0.9999 - val_loss: 0.0010 - val_acc: 0.9999\n",
      "Epoch 10/10\n",
      "6700/6700 [==============================] - 1s 153us/step - loss: 9.6421e-04 - acc: 0.9999 - val_loss: 9.3273e-04 - val_acc: 0.9999\n"
     ]
    },
    {
     "data": {
      "text/plain": [
       "<keras.callbacks.History at 0x7faf3415aa20>"
      ]
     },
     "execution_count": 59,
     "metadata": {
      "tags": []
     },
     "output_type": "execute_result"
    }
   ],
   "source": [
    "model.fit(X_train,\n",
    "          Y_train,\n",
    "          epochs=40,\n",
    "          batch_size=1024,\n",
    "          validation_data=(X_test,\n",
    "                           Y_test)\n",
    "         )"
   ]
  },
  {
   "cell_type": "code",
   "execution_count": null,
   "metadata": {
    "colab": {},
    "colab_type": "code",
    "id": "3dcSNUnMLnvL"
   },
   "outputs": [],
   "source": [
    "r=model.predict(X_test[:2])"
   ]
  },
  {
   "cell_type": "code",
   "execution_count": null,
   "metadata": {
    "colab": {},
    "colab_type": "code",
    "id": "9VBVYeUFS7Ah"
   },
   "outputs": [],
   "source": [
    "if COLLAB:\n",
    "    PATH_TO_MODEL = \"/content/drive/My Drive/collab_shared/models/gol.h5\"\n",
    "else:\n",
    "    PATH_TO_MODEL = \"gol.h5\""
   ]
  },
  {
   "cell_type": "code",
   "execution_count": null,
   "metadata": {
    "colab": {},
    "colab_type": "code",
    "id": "rOEqEls2QJ6A"
   },
   "outputs": [],
   "source": [
    "model.save(PATH_TO_MODEL)"
   ]
  },
  {
   "cell_type": "code",
   "execution_count": null,
   "metadata": {
    "colab": {},
    "colab_type": "code",
    "id": "6kmXs_VtTB_7"
   },
   "outputs": [],
   "source": []
  }
 ],
 "metadata": {
  "accelerator": "GPU",
  "colab": {
   "collapsed_sections": [],
   "name": "gol.ipynb",
   "provenance": [],
   "version": "0.3.2"
  },
  "kernelspec": {
   "display_name": "Python 3",
   "language": "python",
   "name": "python3"
  },
  "language_info": {
   "codemirror_mode": {
    "name": "ipython",
    "version": 3
   },
   "file_extension": ".py",
   "mimetype": "text/x-python",
   "name": "python",
   "nbconvert_exporter": "python",
   "pygments_lexer": "ipython3",
   "version": "3.5.2"
  }
 },
 "nbformat": 4,
 "nbformat_minor": 2
}
